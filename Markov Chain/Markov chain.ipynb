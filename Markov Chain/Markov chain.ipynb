{
 "cells": [
  {
   "cell_type": "markdown",
   "metadata": {},
   "source": [
    "# <center>Markov Chains"
   ]
  },
  {
   "cell_type": "markdown",
   "metadata": {},
   "source": [
    "![alt text](markov_chain.png \"Title\")"
   ]
  },
  {
   "cell_type": "markdown",
   "metadata": {},
   "source": [
    "<center>States = ['Bull Market', 'Bear Market', 'Stagnant Market'] <br/>\n",
    "Transistion probabilities for different states"
   ]
  },
  {
   "cell_type": "markdown",
   "metadata": {},
   "source": [
    "| |Bull Market | Bear Market| Stagnant Market |\n",
    "| --- | --- | --- | --- |\n",
    "|Bull Market | 0.9 | 0.075 | 0.025 |\n",
    "|Bear Market|0.15| 0.8| 0.05|\n",
    "|Stagnant Market |0.25|,0.25|0.5|"
   ]
  },
  {
   "cell_type": "code",
   "execution_count": 1,
   "metadata": {},
   "outputs": [
    {
     "data": {
      "text/html": [
       "\n",
       "        <iframe\n",
       "            width=\"700\"\n",
       "            height=\"600\"\n",
       "            src=\"Animate/index.html\"\n",
       "            frameborder=\"0\"\n",
       "            allowfullscreen\n",
       "        ></iframe>\n",
       "        "
      ],
      "text/plain": [
       "<IPython.lib.display.IFrame at 0x1097dab50>"
      ]
     },
     "execution_count": 1,
     "metadata": {},
     "output_type": "execute_result"
    }
   ],
   "source": [
    "from IPython.display import IFrame\n",
    "IFrame(src='Animate/index.html', width=700, height=600)\n",
    "#Source: http://setosa.io/blog/2014/07/26/markov-chains/index.html"
   ]
  },
  {
   "cell_type": "code",
   "execution_count": 2,
   "metadata": {},
   "outputs": [],
   "source": [
    "from MarkovChain import MarkovChain"
   ]
  },
  {
   "cell_type": "code",
   "execution_count": 3,
   "metadata": {},
   "outputs": [],
   "source": [
    "transition_prob = {'Bull Market': {'Bull Market': 0.9, 'Bear Market': 0.075, \n",
    " 'Stagnant Market': 0.025},\n",
    "                   'Bear Market': {'Bull Market': 0.15, 'Bear Market': 0.8, \n",
    " 'Stagnant Market': 0.05},\n",
    "                   'Stagnant Market': {'Bull Market': 0.25, 'Bear Market': 0.25, \n",
    " 'Stagnant Market': 0.5}}\n"
   ]
  },
  {
   "cell_type": "code",
   "execution_count": 4,
   "metadata": {},
   "outputs": [],
   "source": [
    "Market_chain = MarkovChain(transition_prob=transition_prob)"
   ]
  },
  {
   "cell_type": "markdown",
   "metadata": {},
   "source": [
    "### Predicting the next state"
   ]
  },
  {
   "cell_type": "code",
   "execution_count": 5,
   "metadata": {},
   "outputs": [
    {
     "data": {
      "text/plain": [
       "'Bear Market'"
      ]
     },
     "execution_count": 5,
     "metadata": {},
     "output_type": "execute_result"
    }
   ],
   "source": [
    "Market_chain.next_state(current_state='Bear Market')"
   ]
  },
  {
   "cell_type": "code",
   "execution_count": 6,
   "metadata": {},
   "outputs": [
    {
     "data": {
      "text/plain": [
       "'Bull Market'"
      ]
     },
     "execution_count": 6,
     "metadata": {},
     "output_type": "execute_result"
    }
   ],
   "source": [
    "Market_chain.next_state(current_state='Bull Market')"
   ]
  },
  {
   "cell_type": "markdown",
   "metadata": {},
   "source": [
    "### Predicting next 15 states"
   ]
  },
  {
   "cell_type": "code",
   "execution_count": 7,
   "metadata": {},
   "outputs": [
    {
     "data": {
      "text/plain": [
       "['Stagnant Market',\n",
       " 'Bull Market',\n",
       " 'Bull Market',\n",
       " 'Bull Market',\n",
       " 'Bull Market',\n",
       " 'Bull Market',\n",
       " 'Bull Market',\n",
       " 'Bull Market',\n",
       " 'Bull Market',\n",
       " 'Bear Market',\n",
       " 'Bear Market',\n",
       " 'Bear Market',\n",
       " 'Bear Market',\n",
       " 'Bear Market',\n",
       " 'Bull Market']"
      ]
     },
     "execution_count": 7,
     "metadata": {},
     "output_type": "execute_result"
    }
   ],
   "source": [
    "Market_chain.generate_states(current_state='Bear Market', no=15)"
   ]
  },
  {
   "cell_type": "code",
   "execution_count": null,
   "metadata": {},
   "outputs": [],
   "source": []
  }
 ],
 "metadata": {
  "kernelspec": {
   "display_name": "Python 3",
   "language": "python",
   "name": "python3"
  },
  "language_info": {
   "codemirror_mode": {
    "name": "ipython",
    "version": 3
   },
   "file_extension": ".py",
   "mimetype": "text/x-python",
   "name": "python",
   "nbconvert_exporter": "python",
   "pygments_lexer": "ipython3",
   "version": "3.7.4"
  }
 },
 "nbformat": 4,
 "nbformat_minor": 2
}
