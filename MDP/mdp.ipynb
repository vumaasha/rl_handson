{
 "cells": [
  {
   "cell_type": "markdown",
   "metadata": {},
   "source": [
    "# Markov Decision Process\n",
    "\n",
    "<img src='mdp_updated.png' width=500px>"
   ]
  },
  {
   "cell_type": "code",
   "execution_count": 1,
   "metadata": {},
   "outputs": [],
   "source": [
    "# states\n",
    "S = ['s0', 's1', 's2', 'T']\n",
    "\n",
    "# actions\n",
    "A = ['a0', 'a1']\n",
    "\n",
    "# Probability transition\n",
    "P = {'a0': [[0.5, 0, 0.5, 0],\n",
    "           [0.7, 0.1, 0.2, 0],\n",
    "           [0.4, 0.6, 0, 0],\n",
    "           [0, 0, 0, 0]],\n",
    "     'a1': [[0, 0, 1, 0],\n",
    "           [0, 0.95, 0.05, 0],\n",
    "           [0.3, 0.3, 0.1, 0.3],\n",
    "           [0, 0, 0, 0]]}\n",
    "\n",
    "# rewards\n",
    "# let us assume we have a static reward setting\n",
    "           \n",
    "R = {'s1_a0_s0': 5, 's2_a1_s0': -1}\n",
    "# all other transitions ends up with zero reward\n"
   ]
  },
  {
   "cell_type": "markdown",
   "metadata": {},
   "source": [
    "## Usually each state is connected with only few other states hence above model can be better represented in a consise format as below"
   ]
  },
  {
   "cell_type": "code",
   "execution_count": 2,
   "metadata": {},
   "outputs": [],
   "source": [
    "transition_probs = {\n",
    "        's0':{\n",
    "        'a0': {'s0': 0.5, 's2': 0.5},\n",
    "        'a1': {'s2': 1}\n",
    "        },\n",
    "        's1':{\n",
    "        'a0': {'s0': 0.7, 's1': 0.1, 's2': 0.2},\n",
    "        'a1': {'s1': 0.95, 's2': 0.05}\n",
    "        },\n",
    "        's2':{\n",
    "        'a0': {'s0': 0.4, 's1': 0.6},\n",
    "        'a1': {'s0': 0.3, 's1': 0.3, 's2':0.1, 'T':0.3}\n",
    "        },\n",
    "        'T':{}\n",
    "    }\n",
    "\n",
    "\n",
    "rewards = {\n",
    "    's1': {'a0': {'s0': +5}},\n",
    "    's2': {'a1': {'s0': -1}}\n",
    "}"
   ]
  },
  {
   "cell_type": "code",
   "execution_count": 15,
   "metadata": {},
   "outputs": [
    {
     "data": {
      "text/html": [
       "<div>\n",
       "<style scoped>\n",
       "    .dataframe tbody tr th:only-of-type {\n",
       "        vertical-align: middle;\n",
       "    }\n",
       "\n",
       "    .dataframe tbody tr th {\n",
       "        vertical-align: top;\n",
       "    }\n",
       "\n",
       "    .dataframe thead th {\n",
       "        text-align: right;\n",
       "    }\n",
       "</style>\n",
       "<table border=\"1\" class=\"dataframe\">\n",
       "  <thead>\n",
       "    <tr style=\"text-align: right;\">\n",
       "      <th></th>\n",
       "      <th>episodes</th>\n",
       "      <th>length of episodes</th>\n",
       "    </tr>\n",
       "  </thead>\n",
       "  <tbody>\n",
       "    <tr>\n",
       "      <td>0</td>\n",
       "      <td>[(s1, a1, 0.0, s1), (s1, a1, 0.0, s1), (s1, a1, 0.0, s1), (s1, a0, 5, s0), (s0, a1, 0.0, s2), (s2, a0, 0.0, s1), (s1, a0, 5, s0), (s0, a0, 0.0, s2), (s2, a0, 0.0, s1), (s1, a1, 0.0, s1), (s1, a0, 5, s0), (s0, a1, 0.0, s2), (s2, a0, 0.0, s0), (s0, a1, 0.0, s2), (s2, a1, 0.0, s1), (s1, a0, 5, s0), (s0, a0, 0.0, s2), (s2, a0, 0.0, s1), (s1, a1, 0.0, s1), (s1, a1, 0.0, s1), (s1, a1, 0.0, s1), (s1, a1, 0.0, s1), (s1, a1, 0.0, s1), (s1, a1, 0.0, s1), (s1, a0, 0.0, s2), (s2, a1, -1, s0), (s0, a0, 0.0, s2), (s2, a0, 0.0, s0), (s0, a0, 0.0, s2), (s2, a0, 0.0, s0), (s0, a0, 0.0, s2), (s2, a1, 0.0, T)]</td>\n",
       "      <td>32</td>\n",
       "    </tr>\n",
       "    <tr>\n",
       "      <td>1</td>\n",
       "      <td>[(s1, a0, 5, s0), (s0, a1, 0.0, s2), (s2, a0, 0.0, s1), (s1, a0, 5, s0), (s0, a1, 0.0, s2), (s2, a1, -1, s0), (s0, a0, 0.0, s0), (s0, a0, 0.0, s0), (s0, a1, 0.0, s2), (s2, a1, 0.0, s1), (s1, a0, 0.0, s1), (s1, a0, 5, s0), (s0, a0, 0.0, s2), (s2, a1, 0.0, s1), (s1, a1, 0.0, s1), (s1, a1, 0.0, s1), (s1, a0, 5, s0), (s0, a1, 0.0, s2), (s2, a0, 0.0, s0), (s0, a0, 0.0, s2), (s2, a1, -1, s0), (s0, a0, 0.0, s2), (s2, a1, 0.0, s1), (s1, a0, 5, s0), (s0, a0, 0.0, s2), (s2, a0, 0.0, s1), (s1, a0, 5, s0), (s0, a0, 0.0, s0), (s0, a1, 0.0, s2), (s2, a0, 0.0, s1), (s1, a0, 5, s0), (s0, a0, 0.0, s2), (s2, a0, 0.0, s0), (s0, a1, 0.0, s2), (s2, a0, 0.0, s1), (s1, a0, 0.0, s2), (s2, a1, 0.0, s1), (s1, a1, 0.0, s1), (s1, a0, 5, s0), (s0, a0, 0.0, s2), (s2, a1, -1, s0), (s0, a1, 0.0, s2), (s2, a0, 0.0, s0), (s0, a0, 0.0, s0), (s0, a1, 0.0, s2), (s2, a1, 0.0, T)]</td>\n",
       "      <td>46</td>\n",
       "    </tr>\n",
       "    <tr>\n",
       "      <td>2</td>\n",
       "      <td>[(s1, a0, 5, s0), (s0, a1, 0.0, s2), (s2, a0, 0.0, s0), (s0, a1, 0.0, s2), (s2, a1, 0.0, s1), (s1, a0, 0.0, s2), (s2, a1, -1, s0), (s0, a0, 0.0, s0), (s0, a0, 0.0, s2), (s2, a0, 0.0, s0), (s0, a1, 0.0, s2), (s2, a1, 0.0, T)]</td>\n",
       "      <td>12</td>\n",
       "    </tr>\n",
       "    <tr>\n",
       "      <td>3</td>\n",
       "      <td>[(s2, a0, 0.0, s1), (s1, a0, 0.0, s1), (s1, a0, 5, s0), (s0, a1, 0.0, s2), (s2, a0, 0.0, s1), (s1, a1, 0.0, s1), (s1, a0, 5, s0), (s0, a1, 0.0, s2), (s2, a0, 0.0, s0), (s0, a1, 0.0, s2), (s2, a0, 0.0, s0), (s0, a1, 0.0, s2), (s2, a1, -1, s0), (s0, a1, 0.0, s2), (s2, a1, -1, s0), (s0, a0, 0.0, s0), (s0, a0, 0.0, s0), (s0, a0, 0.0, s2), (s2, a0, 0.0, s1), (s1, a0, 5, s0), (s0, a1, 0.0, s2), (s2, a1, 0.0, s1), (s1, a0, 5, s0), (s0, a0, 0.0, s2), (s2, a0, 0.0, s1), (s1, a0, 0.0, s1), (s1, a0, 5, s0), (s0, a1, 0.0, s2), (s2, a0, 0.0, s0), (s0, a0, 0.0, s0), (s0, a1, 0.0, s2), (s2, a0, 0.0, s0), (s0, a0, 0.0, s0), (s0, a0, 0.0, s2), (s2, a0, 0.0, s1), (s1, a0, 5, s0), (s0, a1, 0.0, s2), (s2, a0, 0.0, s1), (s1, a1, 0.0, s1), (s1, a0, 5, s0), (s0, a0, 0.0, s2), (s2, a0, 0.0, s1), (s1, a0, 0.0, s2), (s2, a1, 0.0, T)]</td>\n",
       "      <td>44</td>\n",
       "    </tr>\n",
       "    <tr>\n",
       "      <td>4</td>\n",
       "      <td>[(s0, a1, 0.0, s2), (s2, a0, 0.0, s0), (s0, a0, 0.0, s2), (s2, a1, 0.0, T)]</td>\n",
       "      <td>4</td>\n",
       "    </tr>\n",
       "  </tbody>\n",
       "</table>\n",
       "</div>"
      ],
      "text/plain": [
       "                                                                                                                                                                                                                                                                                                                                                                                                                                                                                                                                                                                                                                                                                                                                                                                                                                                                                 episodes  \\\n",
       "0  [(s1, a1, 0.0, s1), (s1, a1, 0.0, s1), (s1, a1, 0.0, s1), (s1, a0, 5, s0), (s0, a1, 0.0, s2), (s2, a0, 0.0, s1), (s1, a0, 5, s0), (s0, a0, 0.0, s2), (s2, a0, 0.0, s1), (s1, a1, 0.0, s1), (s1, a0, 5, s0), (s0, a1, 0.0, s2), (s2, a0, 0.0, s0), (s0, a1, 0.0, s2), (s2, a1, 0.0, s1), (s1, a0, 5, s0), (s0, a0, 0.0, s2), (s2, a0, 0.0, s1), (s1, a1, 0.0, s1), (s1, a1, 0.0, s1), (s1, a1, 0.0, s1), (s1, a1, 0.0, s1), (s1, a1, 0.0, s1), (s1, a1, 0.0, s1), (s1, a0, 0.0, s2), (s2, a1, -1, s0), (s0, a0, 0.0, s2), (s2, a0, 0.0, s0), (s0, a0, 0.0, s2), (s2, a0, 0.0, s0), (s0, a0, 0.0, s2), (s2, a1, 0.0, T)]                                                                                                                                                                                                                                                                   \n",
       "1  [(s1, a0, 5, s0), (s0, a1, 0.0, s2), (s2, a0, 0.0, s1), (s1, a0, 5, s0), (s0, a1, 0.0, s2), (s2, a1, -1, s0), (s0, a0, 0.0, s0), (s0, a0, 0.0, s0), (s0, a1, 0.0, s2), (s2, a1, 0.0, s1), (s1, a0, 0.0, s1), (s1, a0, 5, s0), (s0, a0, 0.0, s2), (s2, a1, 0.0, s1), (s1, a1, 0.0, s1), (s1, a1, 0.0, s1), (s1, a0, 5, s0), (s0, a1, 0.0, s2), (s2, a0, 0.0, s0), (s0, a0, 0.0, s2), (s2, a1, -1, s0), (s0, a0, 0.0, s2), (s2, a1, 0.0, s1), (s1, a0, 5, s0), (s0, a0, 0.0, s2), (s2, a0, 0.0, s1), (s1, a0, 5, s0), (s0, a0, 0.0, s0), (s0, a1, 0.0, s2), (s2, a0, 0.0, s1), (s1, a0, 5, s0), (s0, a0, 0.0, s2), (s2, a0, 0.0, s0), (s0, a1, 0.0, s2), (s2, a0, 0.0, s1), (s1, a0, 0.0, s2), (s2, a1, 0.0, s1), (s1, a1, 0.0, s1), (s1, a0, 5, s0), (s0, a0, 0.0, s2), (s2, a1, -1, s0), (s0, a1, 0.0, s2), (s2, a0, 0.0, s0), (s0, a0, 0.0, s0), (s0, a1, 0.0, s2), (s2, a1, 0.0, T)]   \n",
       "2  [(s1, a0, 5, s0), (s0, a1, 0.0, s2), (s2, a0, 0.0, s0), (s0, a1, 0.0, s2), (s2, a1, 0.0, s1), (s1, a0, 0.0, s2), (s2, a1, -1, s0), (s0, a0, 0.0, s0), (s0, a0, 0.0, s2), (s2, a0, 0.0, s0), (s0, a1, 0.0, s2), (s2, a1, 0.0, T)]                                                                                                                                                                                                                                                                                                                                                                                                                                                                                                                                                                                                                                                         \n",
       "3  [(s2, a0, 0.0, s1), (s1, a0, 0.0, s1), (s1, a0, 5, s0), (s0, a1, 0.0, s2), (s2, a0, 0.0, s1), (s1, a1, 0.0, s1), (s1, a0, 5, s0), (s0, a1, 0.0, s2), (s2, a0, 0.0, s0), (s0, a1, 0.0, s2), (s2, a0, 0.0, s0), (s0, a1, 0.0, s2), (s2, a1, -1, s0), (s0, a1, 0.0, s2), (s2, a1, -1, s0), (s0, a0, 0.0, s0), (s0, a0, 0.0, s0), (s0, a0, 0.0, s2), (s2, a0, 0.0, s1), (s1, a0, 5, s0), (s0, a1, 0.0, s2), (s2, a1, 0.0, s1), (s1, a0, 5, s0), (s0, a0, 0.0, s2), (s2, a0, 0.0, s1), (s1, a0, 0.0, s1), (s1, a0, 5, s0), (s0, a1, 0.0, s2), (s2, a0, 0.0, s0), (s0, a0, 0.0, s0), (s0, a1, 0.0, s2), (s2, a0, 0.0, s0), (s0, a0, 0.0, s0), (s0, a0, 0.0, s2), (s2, a0, 0.0, s1), (s1, a0, 5, s0), (s0, a1, 0.0, s2), (s2, a0, 0.0, s1), (s1, a1, 0.0, s1), (s1, a0, 5, s0), (s0, a0, 0.0, s2), (s2, a0, 0.0, s1), (s1, a0, 0.0, s2), (s2, a1, 0.0, T)]                                      \n",
       "4  [(s0, a1, 0.0, s2), (s2, a0, 0.0, s0), (s0, a0, 0.0, s2), (s2, a1, 0.0, T)]                                                                                                                                                                                                                                                                                                                                                                                                                                                                                                                                                                                                                                                                                                                                                                                                              \n",
       "\n",
       "   length of episodes  \n",
       "0  32                  \n",
       "1  46                  \n",
       "2  12                  \n",
       "3  44                  \n",
       "4  4                   "
      ]
     },
     "execution_count": 15,
     "metadata": {},
     "output_type": "execute_result"
    }
   ],
   "source": [
    "import numpy as np\n",
    "import pandas as pd\n",
    "from mdp import MDP\n",
    "pd.set_option('display.max_colwidth',-1)\n",
    "\n",
    "np.random.seed(1)\n",
    "\n",
    "mdp = MDP(transition_probs, rewards)\n",
    "\n",
    "# generate_episodes generates episdoes in (s, a, r, s_prime) format\n",
    "df = pd.DataFrame({'episodes': [mdp.generate_episodes() for _ in range(50)]})\n",
    "\n",
    "df['length of episodes'] = df.episodes.apply(len)\n",
    "df.head()"
   ]
  },
  {
   "cell_type": "markdown",
   "metadata": {},
   "source": [
    "# Return"
   ]
  },
  {
   "cell_type": "markdown",
   "metadata": {},
   "source": [
    "## Return is defined as the sum of future discounted rewards\n",
    "\n",
    "## \\begin{equation*}\n",
    "R = \\sum_{t=0}^{N} \\gamma^t r_t\n",
    "\\end{equation*}\n",
    "\n",
    "where N is the number of states in the given episode.\n",
    "\n",
    "## Return can easily be computed in a recursive manner.\n",
    "\n",
    "### \\begin{equation*}\n",
    "R(t) = r_t + \\gamma * R(t+1)\n",
    "\\end{equation*}\n",
    "\n"
   ]
  },
  {
   "cell_type": "code",
   "execution_count": 16,
   "metadata": {},
   "outputs": [],
   "source": [
    "def get_return(episode, t=0, gamma=1):\n",
    "    if len(episode) > t:  \n",
    "        return episode[t][2] + gamma * get_return(episode, t+1, gamma)\n",
    "    else:\n",
    "        return 0\n"
   ]
  },
  {
   "cell_type": "code",
   "execution_count": 33,
   "metadata": {},
   "outputs": [],
   "source": [
    "def generate_episodes(count=10,start_state=None):\n",
    "    episodes = [mdp.generate_episodes(start_state=start_state) for i in range(count)]\n",
    "    episodes_df = pd.DataFrame({'episodes':episodes})\n",
    "    episodes_df['length'] = episodes_df['episodes'].apply(len)\n",
    "    episodes_df['state_t_zero'] = episodes_df['episodes'].apply(lambda x:x[0][0])\n",
    "    episodes_df['return_t_zero'] =  episodes_df['episodes'].apply(get_return)\n",
    "    return episodes_df"
   ]
  },
  {
   "cell_type": "code",
   "execution_count": 34,
   "metadata": {},
   "outputs": [
    {
     "data": {
      "text/html": [
       "<div>\n",
       "<style scoped>\n",
       "    .dataframe tbody tr th:only-of-type {\n",
       "        vertical-align: middle;\n",
       "    }\n",
       "\n",
       "    .dataframe tbody tr th {\n",
       "        vertical-align: top;\n",
       "    }\n",
       "\n",
       "    .dataframe thead th {\n",
       "        text-align: right;\n",
       "    }\n",
       "</style>\n",
       "<table border=\"1\" class=\"dataframe\">\n",
       "  <thead>\n",
       "    <tr style=\"text-align: right;\">\n",
       "      <th></th>\n",
       "      <th>episodes</th>\n",
       "      <th>length</th>\n",
       "      <th>state_t_zero</th>\n",
       "      <th>return_t_zero</th>\n",
       "    </tr>\n",
       "  </thead>\n",
       "  <tbody>\n",
       "    <tr>\n",
       "      <td>0</td>\n",
       "      <td>[(s0, a1, 0.0, s2), (s2, a1, 0.0, s1), (s1, a0, 5, s0), (s0, a1, 0.0, s2), (s2, a1, 0.0, s1), (s1, a1, 0.0, s1), (s1, a1, 0.0, s2), (s2, a1, 0.0, s1), (s1, a0, 5, s0), (s0, a0, 0.0, s0), (s0, a0, 0.0, s0), (s0, a0, 0.0, s0), (s0, a1, 0.0, s2), (s2, a0, 0.0, s0), (s0, a0, 0.0, s2), (s2, a0, 0.0, s1), (s1, a0, 5, s0), (s0, a0, 0.0, s2), (s2, a0, 0.0, s1), (s1, a0, 0.0, s2), (s2, a1, 0.0, s1), (s1, a0, 5, s0), (s0, a0, 0.0, s2), (s2, a1, 0.0, T)]</td>\n",
       "      <td>24</td>\n",
       "      <td>s0</td>\n",
       "      <td>20.0</td>\n",
       "    </tr>\n",
       "    <tr>\n",
       "      <td>1</td>\n",
       "      <td>[(s0, a0, 0.0, s0), (s0, a0, 0.0, s2), (s2, a0, 0.0, s0), (s0, a1, 0.0, s2), (s2, a0, 0.0, s1), (s1, a1, 0.0, s1), (s1, a0, 5, s0), (s0, a1, 0.0, s2), (s2, a1, -1, s0), (s0, a1, 0.0, s2), (s2, a0, 0.0, s0), (s0, a0, 0.0, s0), (s0, a1, 0.0, s2), (s2, a1, 0.0, s1), (s1, a1, 0.0, s1), (s1, a0, 5, s0), (s0, a1, 0.0, s2), (s2, a1, -1, s0), (s0, a0, 0.0, s0), (s0, a0, 0.0, s2), (s2, a0, 0.0, s1), (s1, a1, 0.0, s1), (s1, a0, 0.0, s1), (s1, a1, 0.0, s1), (s1, a1, 0.0, s1), (s1, a0, 5, s0), (s0, a0, 0.0, s2), (s2, a0, 0.0, s0), (s0, a0, 0.0, s2), (s2, a0, 0.0, s1), (s1, a0, 0.0, s1), (s1, a0, 0.0, s2), (s2, a0, 0.0, s1), (s1, a1, 0.0, s1), (s1, a0, 5, s0), (s0, a0, 0.0, s0), (s0, a1, 0.0, s2), (s2, a0, 0.0, s0), (s0, a1, 0.0, s2), (s2, a1, 0.0, s1), (s1, a1, 0.0, s1), (s1, a0, 5, s0), (s0, a1, 0.0, s2), (s2, a0, 0.0, s1), (s1, a1, 0.0, s1), (s1, a1, 0.0, s1), (s1, a1, 0.0, s1), (s1, a0, 5, s0), (s0, a0, 0.0, s2), (s2, a0, 0.0, s1), (s1, a0, 0.0, s2), (s2, a1, 0.0, s1), (s1, a1, 0.0, s1), (s1, a0, 0.0, s1), (s1, a0, 0.0, s1), (s1, a1, 0.0, s1), (s1, a1, 0.0, s1), (s1, a0, 5, s0), (s0, a1, 0.0, s2), (s2, a0, 0.0, s1), (s1, a1, 0.0, s1), (s1, a0, 5, s0), (s0, a0, 0.0, s2), (s2, a0, 0.0, s0), (s0, a1, 0.0, s2), (s2, a0, 0.0, s1), (s1, a1, 0.0, s1), (s1, a0, 0.0, s1), (s1, a1, 0.0, s1), (s1, a0, 0.0, s2), (s2, a0, 0.0, s1), (s1, a1, 0.0, s1), (s1, a0, 5, s0), (s0, a1, 0.0, s2), (s2, a0, 0.0, s1), (s1, a1, 0.0, s1), (s1, a0, 5, s0), (s0, a0, 0.0, s2), (s2, a1, 0.0, s2), (s2, a0, 0.0, s0), (s0, a1, 0.0, s2), (s2, a0, 0.0, s1), (s1, a0, 5, s0), (s0, a1, 0.0, s2), (s2, a1, 0.0, T)]</td>\n",
       "      <td>85</td>\n",
       "      <td>s0</td>\n",
       "      <td>53.0</td>\n",
       "    </tr>\n",
       "    <tr>\n",
       "      <td>2</td>\n",
       "      <td>[(s1, a0, 0.0, s2), (s2, a0, 0.0, s0), (s0, a0, 0.0, s2), (s2, a0, 0.0, s0), (s0, a0, 0.0, s2), (s2, a0, 0.0, s0), (s0, a0, 0.0, s2), (s2, a0, 0.0, s1), (s1, a1, 0.0, s1), (s1, a1, 0.0, s1), (s1, a1, 0.0, s1), (s1, a1, 0.0, s1), (s1, a0, 5, s0), (s0, a0, 0.0, s0), (s0, a0, 0.0, s0), (s0, a1, 0.0, s2), (s2, a1, 0.0, T)]</td>\n",
       "      <td>17</td>\n",
       "      <td>s1</td>\n",
       "      <td>5.0</td>\n",
       "    </tr>\n",
       "    <tr>\n",
       "      <td>3</td>\n",
       "      <td>[(s0, a1, 0.0, s2), (s2, a1, 0.0, T)]</td>\n",
       "      <td>2</td>\n",
       "      <td>s0</td>\n",
       "      <td>0.0</td>\n",
       "    </tr>\n",
       "    <tr>\n",
       "      <td>4</td>\n",
       "      <td>[(s0, a1, 0.0, s2), (s2, a0, 0.0, s0), (s0, a0, 0.0, s2), (s2, a1, -1, s0), (s0, a0, 0.0, s0), (s0, a0, 0.0, s2), (s2, a1, 0.0, T)]</td>\n",
       "      <td>7</td>\n",
       "      <td>s0</td>\n",
       "      <td>-1.0</td>\n",
       "    </tr>\n",
       "  </tbody>\n",
       "</table>\n",
       "</div>"
      ],
      "text/plain": [
       "                                                                                                                                                                                                                                                                                                                                                                                                                                                                                                                                                                                                                                                                                                                                                                                                                                                                                                                                                                                                                                                                                                                                                                                                                                                                                                                                                                                                                                                                                                                                                                                                                                                 episodes  \\\n",
       "0  [(s0, a1, 0.0, s2), (s2, a1, 0.0, s1), (s1, a0, 5, s0), (s0, a1, 0.0, s2), (s2, a1, 0.0, s1), (s1, a1, 0.0, s1), (s1, a1, 0.0, s2), (s2, a1, 0.0, s1), (s1, a0, 5, s0), (s0, a0, 0.0, s0), (s0, a0, 0.0, s0), (s0, a0, 0.0, s0), (s0, a1, 0.0, s2), (s2, a0, 0.0, s0), (s0, a0, 0.0, s2), (s2, a0, 0.0, s1), (s1, a0, 5, s0), (s0, a0, 0.0, s2), (s2, a0, 0.0, s1), (s1, a0, 0.0, s2), (s2, a1, 0.0, s1), (s1, a0, 5, s0), (s0, a0, 0.0, s2), (s2, a1, 0.0, T)]                                                                                                                                                                                                                                                                                                                                                                                                                                                                                                                                                                                                                                                                                                                                                                                                                                                                                                                                                                                                                                                                                                                                                                                          \n",
       "1  [(s0, a0, 0.0, s0), (s0, a0, 0.0, s2), (s2, a0, 0.0, s0), (s0, a1, 0.0, s2), (s2, a0, 0.0, s1), (s1, a1, 0.0, s1), (s1, a0, 5, s0), (s0, a1, 0.0, s2), (s2, a1, -1, s0), (s0, a1, 0.0, s2), (s2, a0, 0.0, s0), (s0, a0, 0.0, s0), (s0, a1, 0.0, s2), (s2, a1, 0.0, s1), (s1, a1, 0.0, s1), (s1, a0, 5, s0), (s0, a1, 0.0, s2), (s2, a1, -1, s0), (s0, a0, 0.0, s0), (s0, a0, 0.0, s2), (s2, a0, 0.0, s1), (s1, a1, 0.0, s1), (s1, a0, 0.0, s1), (s1, a1, 0.0, s1), (s1, a1, 0.0, s1), (s1, a0, 5, s0), (s0, a0, 0.0, s2), (s2, a0, 0.0, s0), (s0, a0, 0.0, s2), (s2, a0, 0.0, s1), (s1, a0, 0.0, s1), (s1, a0, 0.0, s2), (s2, a0, 0.0, s1), (s1, a1, 0.0, s1), (s1, a0, 5, s0), (s0, a0, 0.0, s0), (s0, a1, 0.0, s2), (s2, a0, 0.0, s0), (s0, a1, 0.0, s2), (s2, a1, 0.0, s1), (s1, a1, 0.0, s1), (s1, a0, 5, s0), (s0, a1, 0.0, s2), (s2, a0, 0.0, s1), (s1, a1, 0.0, s1), (s1, a1, 0.0, s1), (s1, a1, 0.0, s1), (s1, a0, 5, s0), (s0, a0, 0.0, s2), (s2, a0, 0.0, s1), (s1, a0, 0.0, s2), (s2, a1, 0.0, s1), (s1, a1, 0.0, s1), (s1, a0, 0.0, s1), (s1, a0, 0.0, s1), (s1, a1, 0.0, s1), (s1, a1, 0.0, s1), (s1, a0, 5, s0), (s0, a1, 0.0, s2), (s2, a0, 0.0, s1), (s1, a1, 0.0, s1), (s1, a0, 5, s0), (s0, a0, 0.0, s2), (s2, a0, 0.0, s0), (s0, a1, 0.0, s2), (s2, a0, 0.0, s1), (s1, a1, 0.0, s1), (s1, a0, 0.0, s1), (s1, a1, 0.0, s1), (s1, a0, 0.0, s2), (s2, a0, 0.0, s1), (s1, a1, 0.0, s1), (s1, a0, 5, s0), (s0, a1, 0.0, s2), (s2, a0, 0.0, s1), (s1, a1, 0.0, s1), (s1, a0, 5, s0), (s0, a0, 0.0, s2), (s2, a1, 0.0, s2), (s2, a0, 0.0, s0), (s0, a1, 0.0, s2), (s2, a0, 0.0, s1), (s1, a0, 5, s0), (s0, a1, 0.0, s2), (s2, a1, 0.0, T)]   \n",
       "2  [(s1, a0, 0.0, s2), (s2, a0, 0.0, s0), (s0, a0, 0.0, s2), (s2, a0, 0.0, s0), (s0, a0, 0.0, s2), (s2, a0, 0.0, s0), (s0, a0, 0.0, s2), (s2, a0, 0.0, s1), (s1, a1, 0.0, s1), (s1, a1, 0.0, s1), (s1, a1, 0.0, s1), (s1, a1, 0.0, s1), (s1, a0, 5, s0), (s0, a0, 0.0, s0), (s0, a0, 0.0, s0), (s0, a1, 0.0, s2), (s2, a1, 0.0, T)]                                                                                                                                                                                                                                                                                                                                                                                                                                                                                                                                                                                                                                                                                                                                                                                                                                                                                                                                                                                                                                                                                                                                                                                                                                                                                                                         \n",
       "3  [(s0, a1, 0.0, s2), (s2, a1, 0.0, T)]                                                                                                                                                                                                                                                                                                                                                                                                                                                                                                                                                                                                                                                                                                                                                                                                                                                                                                                                                                                                                                                                                                                                                                                                                                                                                                                                                                                                                                                                                                                                                                                                                    \n",
       "4  [(s0, a1, 0.0, s2), (s2, a0, 0.0, s0), (s0, a0, 0.0, s2), (s2, a1, -1, s0), (s0, a0, 0.0, s0), (s0, a0, 0.0, s2), (s2, a1, 0.0, T)]                                                                                                                                                                                                                                                                                                                                                                                                                                                                                                                                                                                                                                                                                                                                                                                                                                                                                                                                                                                                                                                                                                                                                                                                                                                                                                                                                                                                                                                                                                                      \n",
       "\n",
       "   length state_t_zero  return_t_zero  \n",
       "0  24      s0           20.0           \n",
       "1  85      s0           53.0           \n",
       "2  17      s1           5.0            \n",
       "3  2       s0           0.0            \n",
       "4  7       s0          -1.0            "
      ]
     },
     "execution_count": 34,
     "metadata": {},
     "output_type": "execute_result"
    }
   ],
   "source": [
    "episodes_df = generate_episodes()\n",
    "episodes_df.head()"
   ]
  },
  {
   "cell_type": "code",
   "execution_count": 35,
   "metadata": {},
   "outputs": [
    {
     "data": {
      "text/html": [
       "<div>\n",
       "<style scoped>\n",
       "    .dataframe tbody tr th:only-of-type {\n",
       "        vertical-align: middle;\n",
       "    }\n",
       "\n",
       "    .dataframe tbody tr th {\n",
       "        vertical-align: top;\n",
       "    }\n",
       "\n",
       "    .dataframe thead th {\n",
       "        text-align: right;\n",
       "    }\n",
       "</style>\n",
       "<table border=\"1\" class=\"dataframe\">\n",
       "  <thead>\n",
       "    <tr style=\"text-align: right;\">\n",
       "      <th></th>\n",
       "      <th>episodes</th>\n",
       "      <th>length</th>\n",
       "      <th>state_t_zero</th>\n",
       "      <th>return_t_zero</th>\n",
       "    </tr>\n",
       "  </thead>\n",
       "  <tbody>\n",
       "    <tr>\n",
       "      <td>0</td>\n",
       "      <td>[(s2, a0, 0.0, s1), (s1, a0, 5, s0), (s0, a0, 0.0, s0), (s0, a0, 0.0, s2), (s2, a1, -1, s0), (s0, a0, 0.0, s2), (s2, a1, 0.0, T)]</td>\n",
       "      <td>7</td>\n",
       "      <td>s2</td>\n",
       "      <td>4.0</td>\n",
       "    </tr>\n",
       "    <tr>\n",
       "      <td>1</td>\n",
       "      <td>[(s2, a0, 0.0, s1), (s1, a1, 0.0, s1), (s1, a0, 5, s0), (s0, a1, 0.0, s2), (s2, a0, 0.0, s0), (s0, a0, 0.0, s2), (s2, a0, 0.0, s1), (s1, a1, 0.0, s1), (s1, a0, 5, s0), (s0, a1, 0.0, s2), (s2, a1, 0.0, s1), (s1, a1, 0.0, s1), (s1, a1, 0.0, s1), (s1, a0, 5, s0), (s0, a0, 0.0, s2), (s2, a0, 0.0, s0), (s0, a0, 0.0, s0), (s0, a0, 0.0, s0), (s0, a0, 0.0, s0), (s0, a1, 0.0, s2), (s2, a0, 0.0, s1), (s1, a0, 5, s0), (s0, a1, 0.0, s2), (s2, a0, 0.0, s0), (s0, a1, 0.0, s2), (s2, a1, -1, s0), (s0, a0, 0.0, s2), (s2, a1, 0.0, s2), (s2, a0, 0.0, s0), (s0, a0, 0.0, s2), (s2, a1, 0.0, s1), (s1, a0, 0.0, s2), (s2, a1, 0.0, s1), (s1, a0, 5, s0), (s0, a1, 0.0, s2), (s2, a1, 0.0, s1), (s1, a1, 0.0, s1), (s1, a1, 0.0, s1), (s1, a0, 5, s0), (s0, a1, 0.0, s2), (s2, a1, 0.0, s1), (s1, a0, 5, s0), (s0, a0, 0.0, s0), (s0, a0, 0.0, s0), (s0, a1, 0.0, s2), (s2, a0, 0.0, s0), (s0, a0, 0.0, s2), (s2, a1, 0.0, T)]</td>\n",
       "      <td>48</td>\n",
       "      <td>s2</td>\n",
       "      <td>34.0</td>\n",
       "    </tr>\n",
       "    <tr>\n",
       "      <td>2</td>\n",
       "      <td>[(s2, a1, 0.0, T)]</td>\n",
       "      <td>1</td>\n",
       "      <td>s2</td>\n",
       "      <td>0.0</td>\n",
       "    </tr>\n",
       "    <tr>\n",
       "      <td>3</td>\n",
       "      <td>[(s2, a1, 0.0, s2), (s2, a1, 0.0, T)]</td>\n",
       "      <td>2</td>\n",
       "      <td>s2</td>\n",
       "      <td>0.0</td>\n",
       "    </tr>\n",
       "    <tr>\n",
       "      <td>4</td>\n",
       "      <td>[(s2, a1, 0.0, s1), (s1, a1, 0.0, s1), (s1, a1, 0.0, s1), (s1, a0, 5, s0), (s0, a0, 0.0, s0), (s0, a1, 0.0, s2), (s2, a0, 0.0, s1), (s1, a1, 0.0, s1), (s1, a1, 0.0, s1), (s1, a1, 0.0, s1), (s1, a1, 0.0, s1), (s1, a1, 0.0, s1), (s1, a1, 0.0, s1), (s1, a1, 0.0, s1), (s1, a0, 5, s0), (s0, a0, 0.0, s2), (s2, a1, 0.0, s2), (s2, a1, 0.0, s1), (s1, a1, 0.0, s1), (s1, a1, 0.0, s1), (s1, a0, 5, s0), (s0, a0, 0.0, s2), (s2, a1, -1, s0), (s0, a0, 0.0, s2), (s2, a0, 0.0, s1), (s1, a0, 0.0, s1), (s1, a0, 5, s0), (s0, a1, 0.0, s2), (s2, a1, -1, s0), (s0, a0, 0.0, s2), (s2, a0, 0.0, s1), (s1, a1, 0.0, s1), (s1, a1, 0.0, s1), (s1, a1, 0.0, s1), (s1, a0, 5, s0), (s0, a1, 0.0, s2), (s2, a0, 0.0, s0), (s0, a0, 0.0, s2), (s2, a0, 0.0, s1), (s1, a1, 0.0, s1), (s1, a1, 0.0, s1), (s1, a0, 5, s0), (s0, a0, 0.0, s0), (s0, a0, 0.0, s0), (s0, a1, 0.0, s2), (s2, a1, -1, s0), (s0, a1, 0.0, s2), (s2, a0, 0.0, s0), (s0, a0, 0.0, s0), (s0, a1, 0.0, s2), (s2, a0, 0.0, s0), (s0, a1, 0.0, s2), (s2, a1, -1, s0), (s0, a0, 0.0, s0), (s0, a0, 0.0, s2), (s2, a1, 0.0, T)]</td>\n",
       "      <td>56</td>\n",
       "      <td>s2</td>\n",
       "      <td>26.0</td>\n",
       "    </tr>\n",
       "  </tbody>\n",
       "</table>\n",
       "</div>"
      ],
      "text/plain": [
       "                                                                                                                                                                                                                                                                                                                                                                                                                                                                                                                                                                                                                                                                                                                                                                                                                                                                                                                                                                                                                                                                                  episodes  \\\n",
       "0  [(s2, a0, 0.0, s1), (s1, a0, 5, s0), (s0, a0, 0.0, s0), (s0, a0, 0.0, s2), (s2, a1, -1, s0), (s0, a0, 0.0, s2), (s2, a1, 0.0, T)]                                                                                                                                                                                                                                                                                                                                                                                                                                                                                                                                                                                                                                                                                                                                                                                                                                                                                                                                                         \n",
       "1  [(s2, a0, 0.0, s1), (s1, a1, 0.0, s1), (s1, a0, 5, s0), (s0, a1, 0.0, s2), (s2, a0, 0.0, s0), (s0, a0, 0.0, s2), (s2, a0, 0.0, s1), (s1, a1, 0.0, s1), (s1, a0, 5, s0), (s0, a1, 0.0, s2), (s2, a1, 0.0, s1), (s1, a1, 0.0, s1), (s1, a1, 0.0, s1), (s1, a0, 5, s0), (s0, a0, 0.0, s2), (s2, a0, 0.0, s0), (s0, a0, 0.0, s0), (s0, a0, 0.0, s0), (s0, a0, 0.0, s0), (s0, a1, 0.0, s2), (s2, a0, 0.0, s1), (s1, a0, 5, s0), (s0, a1, 0.0, s2), (s2, a0, 0.0, s0), (s0, a1, 0.0, s2), (s2, a1, -1, s0), (s0, a0, 0.0, s2), (s2, a1, 0.0, s2), (s2, a0, 0.0, s0), (s0, a0, 0.0, s2), (s2, a1, 0.0, s1), (s1, a0, 0.0, s2), (s2, a1, 0.0, s1), (s1, a0, 5, s0), (s0, a1, 0.0, s2), (s2, a1, 0.0, s1), (s1, a1, 0.0, s1), (s1, a1, 0.0, s1), (s1, a0, 5, s0), (s0, a1, 0.0, s2), (s2, a1, 0.0, s1), (s1, a0, 5, s0), (s0, a0, 0.0, s0), (s0, a0, 0.0, s0), (s0, a1, 0.0, s2), (s2, a0, 0.0, s0), (s0, a0, 0.0, s2), (s2, a1, 0.0, T)]                                                                                                                                                          \n",
       "2  [(s2, a1, 0.0, T)]                                                                                                                                                                                                                                                                                                                                                                                                                                                                                                                                                                                                                                                                                                                                                                                                                                                                                                                                                                                                                                                                        \n",
       "3  [(s2, a1, 0.0, s2), (s2, a1, 0.0, T)]                                                                                                                                                                                                                                                                                                                                                                                                                                                                                                                                                                                                                                                                                                                                                                                                                                                                                                                                                                                                                                                     \n",
       "4  [(s2, a1, 0.0, s1), (s1, a1, 0.0, s1), (s1, a1, 0.0, s1), (s1, a0, 5, s0), (s0, a0, 0.0, s0), (s0, a1, 0.0, s2), (s2, a0, 0.0, s1), (s1, a1, 0.0, s1), (s1, a1, 0.0, s1), (s1, a1, 0.0, s1), (s1, a1, 0.0, s1), (s1, a1, 0.0, s1), (s1, a1, 0.0, s1), (s1, a1, 0.0, s1), (s1, a0, 5, s0), (s0, a0, 0.0, s2), (s2, a1, 0.0, s2), (s2, a1, 0.0, s1), (s1, a1, 0.0, s1), (s1, a1, 0.0, s1), (s1, a0, 5, s0), (s0, a0, 0.0, s2), (s2, a1, -1, s0), (s0, a0, 0.0, s2), (s2, a0, 0.0, s1), (s1, a0, 0.0, s1), (s1, a0, 5, s0), (s0, a1, 0.0, s2), (s2, a1, -1, s0), (s0, a0, 0.0, s2), (s2, a0, 0.0, s1), (s1, a1, 0.0, s1), (s1, a1, 0.0, s1), (s1, a1, 0.0, s1), (s1, a0, 5, s0), (s0, a1, 0.0, s2), (s2, a0, 0.0, s0), (s0, a0, 0.0, s2), (s2, a0, 0.0, s1), (s1, a1, 0.0, s1), (s1, a1, 0.0, s1), (s1, a0, 5, s0), (s0, a0, 0.0, s0), (s0, a0, 0.0, s0), (s0, a1, 0.0, s2), (s2, a1, -1, s0), (s0, a1, 0.0, s2), (s2, a0, 0.0, s0), (s0, a0, 0.0, s0), (s0, a1, 0.0, s2), (s2, a0, 0.0, s0), (s0, a1, 0.0, s2), (s2, a1, -1, s0), (s0, a0, 0.0, s0), (s0, a0, 0.0, s2), (s2, a1, 0.0, T)]   \n",
       "\n",
       "   length state_t_zero  return_t_zero  \n",
       "0  7       s2           4.0            \n",
       "1  48      s2           34.0           \n",
       "2  1       s2           0.0            \n",
       "3  2       s2           0.0            \n",
       "4  56      s2           26.0           "
      ]
     },
     "execution_count": 35,
     "metadata": {},
     "output_type": "execute_result"
    }
   ],
   "source": [
    "episodes_df = generate_episodes(count=10,start_state='s2')\n",
    "episodes_df.head()"
   ]
  },
  {
   "cell_type": "code",
   "execution_count": 36,
   "metadata": {},
   "outputs": [
    {
     "data": {
      "text/plain": [
       "10.1455"
      ]
     },
     "execution_count": 36,
     "metadata": {},
     "output_type": "execute_result"
    }
   ],
   "source": [
    "episodes_df = generate_episodes(count=10000,start_state='s2')\n",
    "value_s0 = episodes_df.return_t_zero.mean()\n",
    "value_s0"
   ]
  },
  {
   "cell_type": "code",
   "execution_count": null,
   "metadata": {},
   "outputs": [],
   "source": []
  }
 ],
 "metadata": {
  "file_extension": ".py",
  "kernelspec": {
   "display_name": "Python 3",
   "language": "python",
   "name": "python3"
  },
  "language_info": {
   "codemirror_mode": {
    "name": "ipython",
    "version": 3
   },
   "file_extension": ".py",
   "mimetype": "text/x-python",
   "name": "python",
   "nbconvert_exporter": "python",
   "pygments_lexer": "ipython3",
   "version": "3.7.4"
  },
  "mimetype": "text/x-python",
  "name": "python",
  "npconvert_exporter": "python",
  "pygments_lexer": "ipython3",
  "version": 3
 },
 "nbformat": 4,
 "nbformat_minor": 2
}
